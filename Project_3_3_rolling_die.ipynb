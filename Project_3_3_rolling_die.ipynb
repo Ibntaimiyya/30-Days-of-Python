{
  "cells": [
    {
      "cell_type": "code",
      "execution_count": 2,
      "metadata": {
        "colab": {
          "base_uri": "https://localhost:8080/",
          "height": 542
        },
        "id": "y3dao4XOatIa",
        "outputId": "c2372c17-528c-4bd4-dbe8-912a9e8a2bb8"
      },
      "outputs": [
        {
          "output_type": "display_data",
          "data": {
            "text/html": [
              "<html>\n",
              "<head><meta charset=\"utf-8\" /></head>\n",
              "<body>\n",
              "    <div>            <script src=\"https://cdnjs.cloudflare.com/ajax/libs/mathjax/2.7.5/MathJax.js?config=TeX-AMS-MML_SVG\"></script><script type=\"text/javascript\">if (window.MathJax && window.MathJax.Hub && window.MathJax.Hub.Config) {window.MathJax.Hub.Config({SVG: {font: \"STIX-Web\"}});}</script>                <script type=\"text/javascript\">window.PlotlyConfig = {MathJaxConfig: 'local'};</script>\n",
              "        <script charset=\"utf-8\" src=\"https://cdn.plot.ly/plotly-2.35.2.min.js\"></script>                <div id=\"fcfc5037-88e4-46a2-bf11-9af79c3f1070\" class=\"plotly-graph-div\" style=\"height:525px; width:100%;\"></div>            <script type=\"text/javascript\">                                    window.PLOTLYENV=window.PLOTLYENV || {};                                    if (document.getElementById(\"fcfc5037-88e4-46a2-bf11-9af79c3f1070\")) {                    Plotly.newPlot(                        \"fcfc5037-88e4-46a2-bf11-9af79c3f1070\",                        [{\"marker\":{\"color\":\"blue\",\"line\":{\"color\":\"black\",\"width\":1}},\"nbinsx\":36,\"x\":[36,4,6,12,24,6,10,12,15,8,3,20,4,5,3,16,12,3,12,2,3,8,24,1,4,6,25,24,2,20,6,4,24,4,5,6,6,3,9,20,4,20,2,12,10,4,10,6,2,16,5,3,6,5,25,2,1,12,6,12,10,12,6,12,4,24,9,8,20,3,15,6,8,10,2,12,15,6,12,36,20,15,12,36,20,6,6,1,30,5,30,4,20,12,25,25,9,4,15,5,12,20,2,16,12,6,4,24,12,12,2,30,5,6,10,10,30,12,20,6,12,4,9,15,5,2,36,20,30,18,30,20,6,1,3,24,30,10,3,30,10,10,36,6,12,6,12,16,1,2,24,30,6,3,8,24,15,2,5,6,12,12,18,18,24,6,4,12,30,18,9,10,8,2,25,25,36,3,2,2,2,9,4,20,2,9,3,8,8,6,5,16,3,4,36,4,2,12,12,6,2,30,16,2,6,25,3,18,10,25,12,2,6,20,2,1,10,6,8,12,12,4,8,30,30,6,3,16,16,8,24,6,1,12,1,15,2,2,36,12,1,18,4,12,18,12,20,6,12,1,5,30,2,20,4,1,6,36,3,30,4,5,2,3,5,3,1,10,6,3,6,4,20,15,16,12,18,9,3,6,9,18,10,30,6,12,18,4,2,30,3,6,12,4,6,30,5,2,20,36,6,4,24,2,12,16,6,4,30,3,6,12,36,4,30,4,2,2,6,30,36,30,24,20,10,10,12,5,30,18,6,30,6,3,4,6,12,1,20,8,6,6,2,5,24,6,5,16,2,9,3,6,10,2,8,36,24,6,24,3,2,16,12,6,2,6,6,4,18,18,16,2,9,8,6,6,3,8,36,15,2,9,15,15,5,18,1,1,24,12,1,8,18,1,25,5,4,15,5,6,15,10,12,2,18,15,6,10,6,3,12,2,20,25,8,15,20,12,5,1,30,12,18,12,12,24,12,25,30,12,5,16,15,6,24,36,6,18,3,12,3,16,9,5,8,12,15,12,5,30,6,8,4,12,6,15,4,12,2,24,30,6,25,10,1,8,24,3,8,3,2,20,5,30,2,36,6,2,20,4,5,5,8,6,15,12,16,12,6,30,8,30,18,6,4,20,18,24,4,15,2,12,3,3,16,8,24,6,24,15,4,36,12,2,10,8,20,24,8,4,2,8,6,6,1,15,4,18,12,30,9,24,8,24,30,6,18,8,30,2,4,15,10,18,2,24,24,6,30,20,9,4,4,6,6,10,8,3,30,20,36,6,15,10,4,1,2,8,30,6,6,30,15,5,6,3,30,8,20,24,3,6,12,36,20,2,5,5,1,10,6,6,3,6,24,16,5,25,12,2,8,16,4,2,6,4,24,9,12,4,10,24,12,12,12,6,12,8,10,2,6,15,10,15,4,6,12,4,20,5,18,10,16,3,20,18,24,18,10,12,20,6,25,6,1,36,20,1,2,4,20,6,10,18,8,3,4,4,20,30,8,30,12,4,10,8,3,25,3,3,18,12,8,30,20,20,8,3,18,2,4,4,30,18,6,2,9,3,30,15,6,8,3,4,4,2,10,36,15,8,16,18,20,20,12,36,10,9,6,6,24,25,30,12,15,2,18,30,12,12,15,4,12,16,12,20,15,24,9,5,4,2,36,24,4,6,15,2,2,12,6,15,24,15,30,10,24,2,4,2,10,3,5,5,30,30,8,25,12,20,8,20,30,9,9,12,25,4,4,6,10,15,1,2,24,18,9,4,3,15,4,10,12,16,6,25,6,15,12,24,10,10,20,24,4,16,6,12,18,36,12,12,18,10,16,4,25,18,36,15,20,6,10,24,2,6,9,30,2,15,24,2,12,16,9,5,6,12,10,10,4,8,3,16,5,6,6,10,6,1,2,5,24,10,4,18,25,18,2,8,20,12,25,4,5,12,10,8,5,8,4,18,18,16,5,9,30,8,3,15,10,15,25,5,6,12,10,12,6,30,30,5,15,20,20,9,2,10,4,3,3,3,4,20,9,20,6,5,12,20,9,6,20,10,15,5,8,24,18,6,12,6,12,18,1,24,20,25,15,18,36,30,16,12,1,1,6,30,6,6,20,4,5,8,8,2,10,9,6,12,15,5,9,6,6,12,4,6,4,10,25,8,5,18,15,12,8,12,9,20,12,6,4,12,10,6,12,1,30,6,5,10,20,4,25,5,18,8,30,1,6,15,8,24,8,30,5,18,24,1,20,15,18,4,8,6,18,5,3,9],\"type\":\"histogram\"}],                        {\"template\":{\"data\":{\"histogram2dcontour\":[{\"type\":\"histogram2dcontour\",\"colorbar\":{\"outlinewidth\":0,\"ticks\":\"\"},\"colorscale\":[[0.0,\"#0d0887\"],[0.1111111111111111,\"#46039f\"],[0.2222222222222222,\"#7201a8\"],[0.3333333333333333,\"#9c179e\"],[0.4444444444444444,\"#bd3786\"],[0.5555555555555556,\"#d8576b\"],[0.6666666666666666,\"#ed7953\"],[0.7777777777777778,\"#fb9f3a\"],[0.8888888888888888,\"#fdca26\"],[1.0,\"#f0f921\"]]}],\"choropleth\":[{\"type\":\"choropleth\",\"colorbar\":{\"outlinewidth\":0,\"ticks\":\"\"}}],\"histogram2d\":[{\"type\":\"histogram2d\",\"colorbar\":{\"outlinewidth\":0,\"ticks\":\"\"},\"colorscale\":[[0.0,\"#0d0887\"],[0.1111111111111111,\"#46039f\"],[0.2222222222222222,\"#7201a8\"],[0.3333333333333333,\"#9c179e\"],[0.4444444444444444,\"#bd3786\"],[0.5555555555555556,\"#d8576b\"],[0.6666666666666666,\"#ed7953\"],[0.7777777777777778,\"#fb9f3a\"],[0.8888888888888888,\"#fdca26\"],[1.0,\"#f0f921\"]]}],\"heatmap\":[{\"type\":\"heatmap\",\"colorbar\":{\"outlinewidth\":0,\"ticks\":\"\"},\"colorscale\":[[0.0,\"#0d0887\"],[0.1111111111111111,\"#46039f\"],[0.2222222222222222,\"#7201a8\"],[0.3333333333333333,\"#9c179e\"],[0.4444444444444444,\"#bd3786\"],[0.5555555555555556,\"#d8576b\"],[0.6666666666666666,\"#ed7953\"],[0.7777777777777778,\"#fb9f3a\"],[0.8888888888888888,\"#fdca26\"],[1.0,\"#f0f921\"]]}],\"heatmapgl\":[{\"type\":\"heatmapgl\",\"colorbar\":{\"outlinewidth\":0,\"ticks\":\"\"},\"colorscale\":[[0.0,\"#0d0887\"],[0.1111111111111111,\"#46039f\"],[0.2222222222222222,\"#7201a8\"],[0.3333333333333333,\"#9c179e\"],[0.4444444444444444,\"#bd3786\"],[0.5555555555555556,\"#d8576b\"],[0.6666666666666666,\"#ed7953\"],[0.7777777777777778,\"#fb9f3a\"],[0.8888888888888888,\"#fdca26\"],[1.0,\"#f0f921\"]]}],\"contourcarpet\":[{\"type\":\"contourcarpet\",\"colorbar\":{\"outlinewidth\":0,\"ticks\":\"\"}}],\"contour\":[{\"type\":\"contour\",\"colorbar\":{\"outlinewidth\":0,\"ticks\":\"\"},\"colorscale\":[[0.0,\"#0d0887\"],[0.1111111111111111,\"#46039f\"],[0.2222222222222222,\"#7201a8\"],[0.3333333333333333,\"#9c179e\"],[0.4444444444444444,\"#bd3786\"],[0.5555555555555556,\"#d8576b\"],[0.6666666666666666,\"#ed7953\"],[0.7777777777777778,\"#fb9f3a\"],[0.8888888888888888,\"#fdca26\"],[1.0,\"#f0f921\"]]}],\"surface\":[{\"type\":\"surface\",\"colorbar\":{\"outlinewidth\":0,\"ticks\":\"\"},\"colorscale\":[[0.0,\"#0d0887\"],[0.1111111111111111,\"#46039f\"],[0.2222222222222222,\"#7201a8\"],[0.3333333333333333,\"#9c179e\"],[0.4444444444444444,\"#bd3786\"],[0.5555555555555556,\"#d8576b\"],[0.6666666666666666,\"#ed7953\"],[0.7777777777777778,\"#fb9f3a\"],[0.8888888888888888,\"#fdca26\"],[1.0,\"#f0f921\"]]}],\"mesh3d\":[{\"type\":\"mesh3d\",\"colorbar\":{\"outlinewidth\":0,\"ticks\":\"\"}}],\"scatter\":[{\"fillpattern\":{\"fillmode\":\"overlay\",\"size\":10,\"solidity\":0.2},\"type\":\"scatter\"}],\"parcoords\":[{\"type\":\"parcoords\",\"line\":{\"colorbar\":{\"outlinewidth\":0,\"ticks\":\"\"}}}],\"scatterpolargl\":[{\"type\":\"scatterpolargl\",\"marker\":{\"colorbar\":{\"outlinewidth\":0,\"ticks\":\"\"}}}],\"bar\":[{\"error_x\":{\"color\":\"#2a3f5f\"},\"error_y\":{\"color\":\"#2a3f5f\"},\"marker\":{\"line\":{\"color\":\"#E5ECF6\",\"width\":0.5},\"pattern\":{\"fillmode\":\"overlay\",\"size\":10,\"solidity\":0.2}},\"type\":\"bar\"}],\"scattergeo\":[{\"type\":\"scattergeo\",\"marker\":{\"colorbar\":{\"outlinewidth\":0,\"ticks\":\"\"}}}],\"scatterpolar\":[{\"type\":\"scatterpolar\",\"marker\":{\"colorbar\":{\"outlinewidth\":0,\"ticks\":\"\"}}}],\"histogram\":[{\"marker\":{\"pattern\":{\"fillmode\":\"overlay\",\"size\":10,\"solidity\":0.2}},\"type\":\"histogram\"}],\"scattergl\":[{\"type\":\"scattergl\",\"marker\":{\"colorbar\":{\"outlinewidth\":0,\"ticks\":\"\"}}}],\"scatter3d\":[{\"type\":\"scatter3d\",\"line\":{\"colorbar\":{\"outlinewidth\":0,\"ticks\":\"\"}},\"marker\":{\"colorbar\":{\"outlinewidth\":0,\"ticks\":\"\"}}}],\"scattermapbox\":[{\"type\":\"scattermapbox\",\"marker\":{\"colorbar\":{\"outlinewidth\":0,\"ticks\":\"\"}}}],\"scatterternary\":[{\"type\":\"scatterternary\",\"marker\":{\"colorbar\":{\"outlinewidth\":0,\"ticks\":\"\"}}}],\"scattercarpet\":[{\"type\":\"scattercarpet\",\"marker\":{\"colorbar\":{\"outlinewidth\":0,\"ticks\":\"\"}}}],\"carpet\":[{\"aaxis\":{\"endlinecolor\":\"#2a3f5f\",\"gridcolor\":\"white\",\"linecolor\":\"white\",\"minorgridcolor\":\"white\",\"startlinecolor\":\"#2a3f5f\"},\"baxis\":{\"endlinecolor\":\"#2a3f5f\",\"gridcolor\":\"white\",\"linecolor\":\"white\",\"minorgridcolor\":\"white\",\"startlinecolor\":\"#2a3f5f\"},\"type\":\"carpet\"}],\"table\":[{\"cells\":{\"fill\":{\"color\":\"#EBF0F8\"},\"line\":{\"color\":\"white\"}},\"header\":{\"fill\":{\"color\":\"#C8D4E3\"},\"line\":{\"color\":\"white\"}},\"type\":\"table\"}],\"barpolar\":[{\"marker\":{\"line\":{\"color\":\"#E5ECF6\",\"width\":0.5},\"pattern\":{\"fillmode\":\"overlay\",\"size\":10,\"solidity\":0.2}},\"type\":\"barpolar\"}],\"pie\":[{\"automargin\":true,\"type\":\"pie\"}]},\"layout\":{\"autotypenumbers\":\"strict\",\"colorway\":[\"#636efa\",\"#EF553B\",\"#00cc96\",\"#ab63fa\",\"#FFA15A\",\"#19d3f3\",\"#FF6692\",\"#B6E880\",\"#FF97FF\",\"#FECB52\"],\"font\":{\"color\":\"#2a3f5f\"},\"hovermode\":\"closest\",\"hoverlabel\":{\"align\":\"left\"},\"paper_bgcolor\":\"white\",\"plot_bgcolor\":\"#E5ECF6\",\"polar\":{\"bgcolor\":\"#E5ECF6\",\"angularaxis\":{\"gridcolor\":\"white\",\"linecolor\":\"white\",\"ticks\":\"\"},\"radialaxis\":{\"gridcolor\":\"white\",\"linecolor\":\"white\",\"ticks\":\"\"}},\"ternary\":{\"bgcolor\":\"#E5ECF6\",\"aaxis\":{\"gridcolor\":\"white\",\"linecolor\":\"white\",\"ticks\":\"\"},\"baxis\":{\"gridcolor\":\"white\",\"linecolor\":\"white\",\"ticks\":\"\"},\"caxis\":{\"gridcolor\":\"white\",\"linecolor\":\"white\",\"ticks\":\"\"}},\"coloraxis\":{\"colorbar\":{\"outlinewidth\":0,\"ticks\":\"\"}},\"colorscale\":{\"sequential\":[[0.0,\"#0d0887\"],[0.1111111111111111,\"#46039f\"],[0.2222222222222222,\"#7201a8\"],[0.3333333333333333,\"#9c179e\"],[0.4444444444444444,\"#bd3786\"],[0.5555555555555556,\"#d8576b\"],[0.6666666666666666,\"#ed7953\"],[0.7777777777777778,\"#fb9f3a\"],[0.8888888888888888,\"#fdca26\"],[1.0,\"#f0f921\"]],\"sequentialminus\":[[0.0,\"#0d0887\"],[0.1111111111111111,\"#46039f\"],[0.2222222222222222,\"#7201a8\"],[0.3333333333333333,\"#9c179e\"],[0.4444444444444444,\"#bd3786\"],[0.5555555555555556,\"#d8576b\"],[0.6666666666666666,\"#ed7953\"],[0.7777777777777778,\"#fb9f3a\"],[0.8888888888888888,\"#fdca26\"],[1.0,\"#f0f921\"]],\"diverging\":[[0,\"#8e0152\"],[0.1,\"#c51b7d\"],[0.2,\"#de77ae\"],[0.3,\"#f1b6da\"],[0.4,\"#fde0ef\"],[0.5,\"#f7f7f7\"],[0.6,\"#e6f5d0\"],[0.7,\"#b8e186\"],[0.8,\"#7fbc41\"],[0.9,\"#4d9221\"],[1,\"#276419\"]]},\"xaxis\":{\"gridcolor\":\"white\",\"linecolor\":\"white\",\"ticks\":\"\",\"title\":{\"standoff\":15},\"zerolinecolor\":\"white\",\"automargin\":true,\"zerolinewidth\":2},\"yaxis\":{\"gridcolor\":\"white\",\"linecolor\":\"white\",\"ticks\":\"\",\"title\":{\"standoff\":15},\"zerolinecolor\":\"white\",\"automargin\":true,\"zerolinewidth\":2},\"scene\":{\"xaxis\":{\"backgroundcolor\":\"#E5ECF6\",\"gridcolor\":\"white\",\"linecolor\":\"white\",\"showbackground\":true,\"ticks\":\"\",\"zerolinecolor\":\"white\",\"gridwidth\":2},\"yaxis\":{\"backgroundcolor\":\"#E5ECF6\",\"gridcolor\":\"white\",\"linecolor\":\"white\",\"showbackground\":true,\"ticks\":\"\",\"zerolinecolor\":\"white\",\"gridwidth\":2},\"zaxis\":{\"backgroundcolor\":\"#E5ECF6\",\"gridcolor\":\"white\",\"linecolor\":\"white\",\"showbackground\":true,\"ticks\":\"\",\"zerolinecolor\":\"white\",\"gridwidth\":2}},\"shapedefaults\":{\"line\":{\"color\":\"#2a3f5f\"}},\"annotationdefaults\":{\"arrowcolor\":\"#2a3f5f\",\"arrowhead\":0,\"arrowwidth\":1},\"geo\":{\"bgcolor\":\"white\",\"landcolor\":\"#E5ECF6\",\"subunitcolor\":\"white\",\"showland\":true,\"showlakes\":true,\"lakecolor\":\"white\"},\"title\":{\"x\":0.05},\"mapbox\":{\"style\":\"light\"}}},\"xaxis\":{\"title\":{\"text\":\"Product of Two D6 Rolls\"},\"tickmode\":\"linear\"},\"title\":{\"text\":\"Distribution of Product of Two D6 Rolls (1,000 Rolls)\"},\"yaxis\":{\"title\":{\"text\":\"Frequency\"}},\"bargap\":0.2},                        {\"responsive\": true}                    ).then(function(){\n",
              "                            \n",
              "var gd = document.getElementById('fcfc5037-88e4-46a2-bf11-9af79c3f1070');\n",
              "var x = new MutationObserver(function (mutations, observer) {{\n",
              "        var display = window.getComputedStyle(gd).display;\n",
              "        if (!display || display === 'none') {{\n",
              "            console.log([gd, 'removed!']);\n",
              "            Plotly.purge(gd);\n",
              "            observer.disconnect();\n",
              "        }}\n",
              "}});\n",
              "\n",
              "// Listen for the removal of the full notebook cells\n",
              "var notebookContainer = gd.closest('#notebook-container');\n",
              "if (notebookContainer) {{\n",
              "    x.observe(notebookContainer, {childList: true});\n",
              "}}\n",
              "\n",
              "// Listen for the clearing of the current output cell\n",
              "var outputEl = gd.closest('.output');\n",
              "if (outputEl) {{\n",
              "    x.observe(outputEl, {childList: true});\n",
              "}}\n",
              "\n",
              "                        })                };                            </script>        </div>\n",
              "</body>\n",
              "</html>"
            ]
          },
          "metadata": {}
        }
      ],
      "source": [
        "\n",
        "import random\n",
        "import plotly.graph_objects as go\n",
        "\n",
        "# Function to roll two six-sided dice and multiply the results\n",
        "def roll_and_multiply_dice():\n",
        "    return random.randint(1, 6) * random.randint(1, 6)\n",
        "\n",
        "# Simulate rolling two D6 dice 1,000 times and multiplying the results\n",
        "num_rolls = 1000\n",
        "results = [roll_and_multiply_dice() for _ in range(num_rolls)]\n",
        "\n",
        "# Prepare data for Plotly\n",
        "hist_data = go.Histogram(x=results, nbinsx=36, marker=dict(color='blue', line=dict(width=1, color='black')))\n",
        "\n",
        "# Create the Plotly figure\n",
        "fig = go.Figure(data=[hist_data])\n",
        "\n",
        "# Update layout\n",
        "fig.update_layout(\n",
        "    title='Distribution of Product of Two D6 Rolls (1,000 Rolls)',\n",
        "    xaxis_title='Product of Two D6 Rolls',\n",
        "    yaxis_title='Frequency',\n",
        "    xaxis=dict(tickmode='linear'),\n",
        "    bargap=0.2\n",
        ")\n",
        "\n",
        "# Show the plot\n",
        "fig.show()"
      ]
    }
  ],
  "metadata": {
    "colab": {
      "provenance": [],
      "authorship_tag": "ABX9TyNVetEHB2mcKvRKROmikzRZ"
    },
    "kernelspec": {
      "display_name": "Python 3",
      "name": "python3"
    },
    "language_info": {
      "name": "python"
    }
  },
  "nbformat": 4,
  "nbformat_minor": 0
}