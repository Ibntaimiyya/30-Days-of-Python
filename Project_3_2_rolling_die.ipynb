{
  "nbformat": 4,
  "nbformat_minor": 0,
  "metadata": {
    "colab": {
      "provenance": [],
      "authorship_tag": "ABX9TyN0ATu+TXedioCJu2N3V/dO"
    },
    "kernelspec": {
      "name": "python3",
      "display_name": "Python 3"
    },
    "language_info": {
      "name": "python"
    }
  },
  "cells": [
    {
      "cell_type": "code",
      "execution_count": 4,
      "metadata": {
        "colab": {
          "base_uri": "https://localhost:8080/",
          "height": 542
        },
        "id": "y3dao4XOatIa",
        "outputId": "30f955d4-2793-4c3a-9b7f-9fc93a67a66d"
      },
      "outputs": [
        {
          "output_type": "display_data",
          "data": {
            "text/html": [
              "<html>\n",
              "<head><meta charset=\"utf-8\" /></head>\n",
              "<body>\n",
              "    <div>            <script src=\"https://cdnjs.cloudflare.com/ajax/libs/mathjax/2.7.5/MathJax.js?config=TeX-AMS-MML_SVG\"></script><script type=\"text/javascript\">if (window.MathJax && window.MathJax.Hub && window.MathJax.Hub.Config) {window.MathJax.Hub.Config({SVG: {font: \"STIX-Web\"}});}</script>                <script type=\"text/javascript\">window.PlotlyConfig = {MathJaxConfig: 'local'};</script>\n",
              "        <script charset=\"utf-8\" src=\"https://cdn.plot.ly/plotly-2.35.2.min.js\"></script>                <div id=\"d23cb519-f104-4ce8-8714-de8611cc56d9\" class=\"plotly-graph-div\" style=\"height:525px; width:100%;\"></div>            <script type=\"text/javascript\">                                    window.PLOTLYENV=window.PLOTLYENV || {};                                    if (document.getElementById(\"d23cb519-f104-4ce8-8714-de8611cc56d9\")) {                    Plotly.newPlot(                        \"d23cb519-f104-4ce8-8714-de8611cc56d9\",                        [{\"marker\":{\"color\":\"blue\",\"line\":{\"color\":\"black\",\"width\":1}},\"nbinsx\":16,\"x\":[5,9,15,6,10,8,15,11,10,9,13,13,5,9,11,11,13,10,11,8,13,5,13,13,18,7,12,11,15,14,3,7,9,14,11,10,8,12,5,8,7,7,15,11,9,10,11,9,13,6,13,14,13,8,6,6,15,13,12,9,13,10,10,13,11,8,11,14,4,12,11,12,14,14,11,15,8,9,9,8,7,7,10,12,4,15,8,5,9,6,13,12,12,5,6,18,9,13,8,8,9,7,15,13,9,10,12,6,8,9,5,7,16,11,7,13,12,13,9,14,9,11,10,10,12,4,10,11,11,8,12,5,7,11,8,15,15,10,11,6,12,11,9,9,15,10,8,8,3,10,11,12,16,8,12,12,15,8,11,10,7,14,10,8,11,5,11,13,15,13,6,11,10,11,17,13,10,8,12,12,10,7,10,9,13,11,6,10,8,13,8,12,6,11,10,6,9,17,14,13,5,13,4,12,10,13,11,8,13,7,8,12,12,10,10,8,11,13,18,8,11,9,7,14,15,13,18,11,8,18,6,17,11,6,8,7,7,8,4,18,12,12,15,10,8,17,11,8,7,13,6,11,8,7,10,6,8,12,10,9,8,11,15,12,11,9,9,11,13,15,11,15,8,13,14,10,13,11,12,7,5,14,15,9,11,12,7,11,12,11,15,7,11,17,11,3,7,12,6,7,8,14,10,12,10,11,7,9,13,10,17,11,13,9,8,11,11,15,10,15,10,16,9,9,10,9,14,9,10,9,13,10,7,15,9,12,13,13,11,12,4,10,11,10,14,10,5,8,15,17,11,12,15,9,9,10,10,13,6,9,12,11,6,10,5,9,11,10,15,17,6,8,10,14,12,12,11,11,12,12,13,13,9,10,12,12,9,11,16,11,9,6,8,12,13,6,11,10,9,13,9,12,9,9,16,16,7,13,5,9,7,11,16,6,17,11,8,11,4,12,8,4,9,6,12,10,13,10,3,14,8,8,11,14,7,8,11,13,13,12,9,7,14,5,10,3,13,11,13,15,9,9,13,6,10,9,9,11,10,10,14,7,10,7,12,11,9,8,15,8,12,11,11,10,12,13,7,10,16,15,11,8,7,13,9,11,11,4,9,12,10,10,5,8,12,12,14,8,13,9,11,9,13,15,8,6,13,7,11,11,9,7,17,10,13,7,12,8,10,11,11,7,12,7,10,9,12,9,16,7,6,9,9,4,11,10,15,11,12,6,14,15,11,7,8,12,11,12,8,15,10,12,13,7,8,12,10,7,9,18,13,15,6,13,10,12,10,13,7,15,8,9,6,7,10,5,5,11,7,7,9,10,7,15,9,7,7,8,8,15,7,16,11,14,8,6,7,11,12,9,6,14,9,10,11,13,9,9,8,9,6,14,9,12,9,7,8,4,10,15,8,9,11,7,13,5,10,10,12,13,10,11,8,12,7,14,7,8,10,9,10,7,14,9,6,5,11,12,15,10,13,15,5,4,8,14,12,11,10,12,9,8,14,9,6,12,10,12,17,10,14,9,9,10,7,10,6,11,9,16,8,11,15,7,14,7,13,8,5,8,11,15,15,11,13,13,16,10,9,16,9,7,12,10,11,7,9,11,11,7,16,5,11,11,9,13,10,9,9,8,8,10,14,17,10,14,13,8,7,9,4,14,10,12,10,12,16,10,12,14,11,10,5,14,12,10,11,10,9,9,11,15,12,13,7,15,17,9,13,12,9,11,11,11,8,8,14,13,9,8,14,10,8,11,14,7,9,14,14,6,7,9,17,14,5,9,14,8,18,15,10,10,4,13,5,13,15,10,15,13,4,11,14,8,13,11,13,8,6,10,10,8,16,8,11,13,14,7,11,8,8,12,9,10,16,8,13,14,12,9,4,8,11,11,9,14,6,9,10,9,7,13,15,12,13,7,8,11,11,15,12,13,11,9,11,10,14,4,10,11,12,12,12,8,8,9,9,15,10,7,11,8,12,10,8,12,11,13,11,16,9,6,8,13,4,6,9,5,14,8,9,10,14,9,11,11,7,6,12,13,8,10,11,6,8,6,9,10,6,9,14,15,12,9,11,13,9,8,13,8,9,13,12,17,11,13,10,14,9,10,11,11,11,11,11,13,9,13,11,8,10,9,6,9,11,12,6,14,15,8,7,9,10,8,12,8,8,9,4,8,10,16,6,13,10,6,14,7,10,11,14,8,10,14,15,10,8,11,10,12,4,9,12,17,7,9,14,9,13,15,9,8,8,5,8,13,9,8,11,8],\"type\":\"histogram\"}],                        {\"template\":{\"data\":{\"histogram2dcontour\":[{\"type\":\"histogram2dcontour\",\"colorbar\":{\"outlinewidth\":0,\"ticks\":\"\"},\"colorscale\":[[0.0,\"#0d0887\"],[0.1111111111111111,\"#46039f\"],[0.2222222222222222,\"#7201a8\"],[0.3333333333333333,\"#9c179e\"],[0.4444444444444444,\"#bd3786\"],[0.5555555555555556,\"#d8576b\"],[0.6666666666666666,\"#ed7953\"],[0.7777777777777778,\"#fb9f3a\"],[0.8888888888888888,\"#fdca26\"],[1.0,\"#f0f921\"]]}],\"choropleth\":[{\"type\":\"choropleth\",\"colorbar\":{\"outlinewidth\":0,\"ticks\":\"\"}}],\"histogram2d\":[{\"type\":\"histogram2d\",\"colorbar\":{\"outlinewidth\":0,\"ticks\":\"\"},\"colorscale\":[[0.0,\"#0d0887\"],[0.1111111111111111,\"#46039f\"],[0.2222222222222222,\"#7201a8\"],[0.3333333333333333,\"#9c179e\"],[0.4444444444444444,\"#bd3786\"],[0.5555555555555556,\"#d8576b\"],[0.6666666666666666,\"#ed7953\"],[0.7777777777777778,\"#fb9f3a\"],[0.8888888888888888,\"#fdca26\"],[1.0,\"#f0f921\"]]}],\"heatmap\":[{\"type\":\"heatmap\",\"colorbar\":{\"outlinewidth\":0,\"ticks\":\"\"},\"colorscale\":[[0.0,\"#0d0887\"],[0.1111111111111111,\"#46039f\"],[0.2222222222222222,\"#7201a8\"],[0.3333333333333333,\"#9c179e\"],[0.4444444444444444,\"#bd3786\"],[0.5555555555555556,\"#d8576b\"],[0.6666666666666666,\"#ed7953\"],[0.7777777777777778,\"#fb9f3a\"],[0.8888888888888888,\"#fdca26\"],[1.0,\"#f0f921\"]]}],\"heatmapgl\":[{\"type\":\"heatmapgl\",\"colorbar\":{\"outlinewidth\":0,\"ticks\":\"\"},\"colorscale\":[[0.0,\"#0d0887\"],[0.1111111111111111,\"#46039f\"],[0.2222222222222222,\"#7201a8\"],[0.3333333333333333,\"#9c179e\"],[0.4444444444444444,\"#bd3786\"],[0.5555555555555556,\"#d8576b\"],[0.6666666666666666,\"#ed7953\"],[0.7777777777777778,\"#fb9f3a\"],[0.8888888888888888,\"#fdca26\"],[1.0,\"#f0f921\"]]}],\"contourcarpet\":[{\"type\":\"contourcarpet\",\"colorbar\":{\"outlinewidth\":0,\"ticks\":\"\"}}],\"contour\":[{\"type\":\"contour\",\"colorbar\":{\"outlinewidth\":0,\"ticks\":\"\"},\"colorscale\":[[0.0,\"#0d0887\"],[0.1111111111111111,\"#46039f\"],[0.2222222222222222,\"#7201a8\"],[0.3333333333333333,\"#9c179e\"],[0.4444444444444444,\"#bd3786\"],[0.5555555555555556,\"#d8576b\"],[0.6666666666666666,\"#ed7953\"],[0.7777777777777778,\"#fb9f3a\"],[0.8888888888888888,\"#fdca26\"],[1.0,\"#f0f921\"]]}],\"surface\":[{\"type\":\"surface\",\"colorbar\":{\"outlinewidth\":0,\"ticks\":\"\"},\"colorscale\":[[0.0,\"#0d0887\"],[0.1111111111111111,\"#46039f\"],[0.2222222222222222,\"#7201a8\"],[0.3333333333333333,\"#9c179e\"],[0.4444444444444444,\"#bd3786\"],[0.5555555555555556,\"#d8576b\"],[0.6666666666666666,\"#ed7953\"],[0.7777777777777778,\"#fb9f3a\"],[0.8888888888888888,\"#fdca26\"],[1.0,\"#f0f921\"]]}],\"mesh3d\":[{\"type\":\"mesh3d\",\"colorbar\":{\"outlinewidth\":0,\"ticks\":\"\"}}],\"scatter\":[{\"fillpattern\":{\"fillmode\":\"overlay\",\"size\":10,\"solidity\":0.2},\"type\":\"scatter\"}],\"parcoords\":[{\"type\":\"parcoords\",\"line\":{\"colorbar\":{\"outlinewidth\":0,\"ticks\":\"\"}}}],\"scatterpolargl\":[{\"type\":\"scatterpolargl\",\"marker\":{\"colorbar\":{\"outlinewidth\":0,\"ticks\":\"\"}}}],\"bar\":[{\"error_x\":{\"color\":\"#2a3f5f\"},\"error_y\":{\"color\":\"#2a3f5f\"},\"marker\":{\"line\":{\"color\":\"#E5ECF6\",\"width\":0.5},\"pattern\":{\"fillmode\":\"overlay\",\"size\":10,\"solidity\":0.2}},\"type\":\"bar\"}],\"scattergeo\":[{\"type\":\"scattergeo\",\"marker\":{\"colorbar\":{\"outlinewidth\":0,\"ticks\":\"\"}}}],\"scatterpolar\":[{\"type\":\"scatterpolar\",\"marker\":{\"colorbar\":{\"outlinewidth\":0,\"ticks\":\"\"}}}],\"histogram\":[{\"marker\":{\"pattern\":{\"fillmode\":\"overlay\",\"size\":10,\"solidity\":0.2}},\"type\":\"histogram\"}],\"scattergl\":[{\"type\":\"scattergl\",\"marker\":{\"colorbar\":{\"outlinewidth\":0,\"ticks\":\"\"}}}],\"scatter3d\":[{\"type\":\"scatter3d\",\"line\":{\"colorbar\":{\"outlinewidth\":0,\"ticks\":\"\"}},\"marker\":{\"colorbar\":{\"outlinewidth\":0,\"ticks\":\"\"}}}],\"scattermapbox\":[{\"type\":\"scattermapbox\",\"marker\":{\"colorbar\":{\"outlinewidth\":0,\"ticks\":\"\"}}}],\"scatterternary\":[{\"type\":\"scatterternary\",\"marker\":{\"colorbar\":{\"outlinewidth\":0,\"ticks\":\"\"}}}],\"scattercarpet\":[{\"type\":\"scattercarpet\",\"marker\":{\"colorbar\":{\"outlinewidth\":0,\"ticks\":\"\"}}}],\"carpet\":[{\"aaxis\":{\"endlinecolor\":\"#2a3f5f\",\"gridcolor\":\"white\",\"linecolor\":\"white\",\"minorgridcolor\":\"white\",\"startlinecolor\":\"#2a3f5f\"},\"baxis\":{\"endlinecolor\":\"#2a3f5f\",\"gridcolor\":\"white\",\"linecolor\":\"white\",\"minorgridcolor\":\"white\",\"startlinecolor\":\"#2a3f5f\"},\"type\":\"carpet\"}],\"table\":[{\"cells\":{\"fill\":{\"color\":\"#EBF0F8\"},\"line\":{\"color\":\"white\"}},\"header\":{\"fill\":{\"color\":\"#C8D4E3\"},\"line\":{\"color\":\"white\"}},\"type\":\"table\"}],\"barpolar\":[{\"marker\":{\"line\":{\"color\":\"#E5ECF6\",\"width\":0.5},\"pattern\":{\"fillmode\":\"overlay\",\"size\":10,\"solidity\":0.2}},\"type\":\"barpolar\"}],\"pie\":[{\"automargin\":true,\"type\":\"pie\"}]},\"layout\":{\"autotypenumbers\":\"strict\",\"colorway\":[\"#636efa\",\"#EF553B\",\"#00cc96\",\"#ab63fa\",\"#FFA15A\",\"#19d3f3\",\"#FF6692\",\"#B6E880\",\"#FF97FF\",\"#FECB52\"],\"font\":{\"color\":\"#2a3f5f\"},\"hovermode\":\"closest\",\"hoverlabel\":{\"align\":\"left\"},\"paper_bgcolor\":\"white\",\"plot_bgcolor\":\"#E5ECF6\",\"polar\":{\"bgcolor\":\"#E5ECF6\",\"angularaxis\":{\"gridcolor\":\"white\",\"linecolor\":\"white\",\"ticks\":\"\"},\"radialaxis\":{\"gridcolor\":\"white\",\"linecolor\":\"white\",\"ticks\":\"\"}},\"ternary\":{\"bgcolor\":\"#E5ECF6\",\"aaxis\":{\"gridcolor\":\"white\",\"linecolor\":\"white\",\"ticks\":\"\"},\"baxis\":{\"gridcolor\":\"white\",\"linecolor\":\"white\",\"ticks\":\"\"},\"caxis\":{\"gridcolor\":\"white\",\"linecolor\":\"white\",\"ticks\":\"\"}},\"coloraxis\":{\"colorbar\":{\"outlinewidth\":0,\"ticks\":\"\"}},\"colorscale\":{\"sequential\":[[0.0,\"#0d0887\"],[0.1111111111111111,\"#46039f\"],[0.2222222222222222,\"#7201a8\"],[0.3333333333333333,\"#9c179e\"],[0.4444444444444444,\"#bd3786\"],[0.5555555555555556,\"#d8576b\"],[0.6666666666666666,\"#ed7953\"],[0.7777777777777778,\"#fb9f3a\"],[0.8888888888888888,\"#fdca26\"],[1.0,\"#f0f921\"]],\"sequentialminus\":[[0.0,\"#0d0887\"],[0.1111111111111111,\"#46039f\"],[0.2222222222222222,\"#7201a8\"],[0.3333333333333333,\"#9c179e\"],[0.4444444444444444,\"#bd3786\"],[0.5555555555555556,\"#d8576b\"],[0.6666666666666666,\"#ed7953\"],[0.7777777777777778,\"#fb9f3a\"],[0.8888888888888888,\"#fdca26\"],[1.0,\"#f0f921\"]],\"diverging\":[[0,\"#8e0152\"],[0.1,\"#c51b7d\"],[0.2,\"#de77ae\"],[0.3,\"#f1b6da\"],[0.4,\"#fde0ef\"],[0.5,\"#f7f7f7\"],[0.6,\"#e6f5d0\"],[0.7,\"#b8e186\"],[0.8,\"#7fbc41\"],[0.9,\"#4d9221\"],[1,\"#276419\"]]},\"xaxis\":{\"gridcolor\":\"white\",\"linecolor\":\"white\",\"ticks\":\"\",\"title\":{\"standoff\":15},\"zerolinecolor\":\"white\",\"automargin\":true,\"zerolinewidth\":2},\"yaxis\":{\"gridcolor\":\"white\",\"linecolor\":\"white\",\"ticks\":\"\",\"title\":{\"standoff\":15},\"zerolinecolor\":\"white\",\"automargin\":true,\"zerolinewidth\":2},\"scene\":{\"xaxis\":{\"backgroundcolor\":\"#E5ECF6\",\"gridcolor\":\"white\",\"linecolor\":\"white\",\"showbackground\":true,\"ticks\":\"\",\"zerolinecolor\":\"white\",\"gridwidth\":2},\"yaxis\":{\"backgroundcolor\":\"#E5ECF6\",\"gridcolor\":\"white\",\"linecolor\":\"white\",\"showbackground\":true,\"ticks\":\"\",\"zerolinecolor\":\"white\",\"gridwidth\":2},\"zaxis\":{\"backgroundcolor\":\"#E5ECF6\",\"gridcolor\":\"white\",\"linecolor\":\"white\",\"showbackground\":true,\"ticks\":\"\",\"zerolinecolor\":\"white\",\"gridwidth\":2}},\"shapedefaults\":{\"line\":{\"color\":\"#2a3f5f\"}},\"annotationdefaults\":{\"arrowcolor\":\"#2a3f5f\",\"arrowhead\":0,\"arrowwidth\":1},\"geo\":{\"bgcolor\":\"white\",\"landcolor\":\"#E5ECF6\",\"subunitcolor\":\"white\",\"showland\":true,\"showlakes\":true,\"lakecolor\":\"white\"},\"title\":{\"x\":0.05},\"mapbox\":{\"style\":\"light\"}}},\"xaxis\":{\"title\":{\"text\":\"Sum of Three D6 Rolls\"},\"tickmode\":\"linear\"},\"title\":{\"text\":\"Distribution of Sum of Three D6 Rolls (1,000 Rolls)\"},\"yaxis\":{\"title\":{\"text\":\"Frequency\"}},\"bargap\":0.2},                        {\"responsive\": true}                    ).then(function(){\n",
              "                            \n",
              "var gd = document.getElementById('d23cb519-f104-4ce8-8714-de8611cc56d9');\n",
              "var x = new MutationObserver(function (mutations, observer) {{\n",
              "        var display = window.getComputedStyle(gd).display;\n",
              "        if (!display || display === 'none') {{\n",
              "            console.log([gd, 'removed!']);\n",
              "            Plotly.purge(gd);\n",
              "            observer.disconnect();\n",
              "        }}\n",
              "}});\n",
              "\n",
              "// Listen for the removal of the full notebook cells\n",
              "var notebookContainer = gd.closest('#notebook-container');\n",
              "if (notebookContainer) {{\n",
              "    x.observe(notebookContainer, {childList: true});\n",
              "}}\n",
              "\n",
              "// Listen for the clearing of the current output cell\n",
              "var outputEl = gd.closest('.output');\n",
              "if (outputEl) {{\n",
              "    x.observe(outputEl, {childList: true});\n",
              "}}\n",
              "\n",
              "                        })                };                            </script>        </div>\n",
              "</body>\n",
              "</html>"
            ]
          },
          "metadata": {}
        }
      ],
      "source": [
        "\n",
        "import random\n",
        "import plotly.graph_objects as go\n",
        "\n",
        "# Function to roll three six-sided dice\n",
        "def roll_dice():\n",
        "    return random.randint(1, 6) + random.randint(1, 6) + random.randint(1, 6)\n",
        "\n",
        "# Simulate rolling three D6 dice 1,000 times\n",
        "num_rolls = 1000\n",
        "results = [roll_dice() for _ in range(num_rolls)]\n",
        "\n",
        "# Prepare data for Plotly\n",
        "hist_data = go.Histogram(x=results, nbinsx=16, marker=dict(color='blue', line=dict(width=1, color='black')))\n",
        "\n",
        "# Create the Plotly figure\n",
        "fig = go.Figure(data=[hist_data])\n",
        "\n",
        "# Update layout\n",
        "fig.update_layout(\n",
        "    title='Distribution of Sum of Three D6 Rolls (1,000 Rolls)',\n",
        "    xaxis_title='Sum of Three D6 Rolls',\n",
        "    yaxis_title='Frequency',\n",
        "    xaxis=dict(tickmode='linear'),\n",
        "    bargap=0.2\n",
        ")\n",
        "\n",
        "# Show the plot\n",
        "fig.show()"
      ]
    }
  ]
}