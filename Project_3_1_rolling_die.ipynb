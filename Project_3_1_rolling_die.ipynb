{
  "nbformat": 4,
  "nbformat_minor": 0,
  "metadata": {
    "colab": {
      "provenance": [],
      "authorship_tag": "ABX9TyNW6aKvXADgVPW80t1to2Hg"
    },
    "kernelspec": {
      "name": "python3",
      "display_name": "Python 3"
    },
    "language_info": {
      "name": "python"
    }
  },
  "cells": [
    {
      "cell_type": "code",
      "execution_count": 1,
      "metadata": {
        "colab": {
          "base_uri": "https://localhost:8080/",
          "height": 542
        },
        "id": "y3dao4XOatIa",
        "outputId": "32b43594-a031-4c66-dfbb-12f7a22a54b1"
      },
      "outputs": [
        {
          "output_type": "display_data",
          "data": {
            "text/html": [
              "<html>\n",
              "<head><meta charset=\"utf-8\" /></head>\n",
              "<body>\n",
              "    <div>            <script src=\"https://cdnjs.cloudflare.com/ajax/libs/mathjax/2.7.5/MathJax.js?config=TeX-AMS-MML_SVG\"></script><script type=\"text/javascript\">if (window.MathJax && window.MathJax.Hub && window.MathJax.Hub.Config) {window.MathJax.Hub.Config({SVG: {font: \"STIX-Web\"}});}</script>                <script type=\"text/javascript\">window.PlotlyConfig = {MathJaxConfig: 'local'};</script>\n",
              "        <script charset=\"utf-8\" src=\"https://cdn.plot.ly/plotly-2.35.2.min.js\"></script>                <div id=\"e3ba2bcc-24e2-48dc-bc80-9e0e28f00beb\" class=\"plotly-graph-div\" style=\"height:525px; width:100%;\"></div>            <script type=\"text/javascript\">                                    window.PLOTLYENV=window.PLOTLYENV || {};                                    if (document.getElementById(\"e3ba2bcc-24e2-48dc-bc80-9e0e28f00beb\")) {                    Plotly.newPlot(                        \"e3ba2bcc-24e2-48dc-bc80-9e0e28f00beb\",                        [{\"marker\":{\"color\":\"blue\",\"line\":{\"color\":\"black\",\"width\":1}},\"nbinsx\":17,\"x\":[7,6,15,9,9,4,8,3,7,6,10,15,15,10,7,6,14,7,15,13,2,3,10,7,7,6,6,2,10,10,12,12,13,10,6,13,8,5,13,8,14,9,4,11,7,6,10,11,9,9,15,9,7,6,15,12,5,7,14,5,9,11,6,16,8,11,15,10,11,7,7,9,3,8,10,14,12,11,6,9,9,5,12,14,8,6,14,11,11,12,9,7,6,10,12,10,4,10,7,8,7,9,8,5,9,8,11,6,10,6,7,10,8,4,7,14,10,7,6,12,12,8,4,6,13,11,9,5,9,8,7,8,6,8,8,12,11,4,12,11,13,13,2,8,7,6,3,8,13,5,9,7,11,4,10,9,10,9,14,14,8,4,9,6,10,10,9,5,9,10,9,12,14,15,6,15,9,12,9,9,10,13,7,5,3,8,3,9,9,6,11,8,7,8,10,6,7,8,13,11,7,10,6,9,8,11,8,7,7,9,6,7,5,9,9,4,9,7,10,12,8,4,16,8,4,9,10,10,12,4,7,8,12,9,8,13,11,13,9,16,10,8,9,4,11,7,7,12,8,7,5,7,9,9,4,5,6,5,9,11,9,7,11,6,11,11,9,6,6,8,5,13,3,8,11,10,10,14,15,5,8,7,5,8,8,6,9,7,5,11,2,13,10,8,13,12,11,11,8,13,6,11,2,10,6,12,8,15,3,12,5,6,5,6,14,7,8,8,7,16,8,10,6,6,11,4,13,16,11,9,3,13,4,10,11,12,13,2,11,9,10,3,16,6,14,7,13,8,4,9,11,7,11,9,9,9,9,5,13,7,4,13,14,9,5,12,4,13,11,15,12,15,9,5,8,12,10,4,12,4,6,14,8,7,5,14,10,10,4,7,10,13,10,13,12,12,4,11,7,13,12,10,9,12,8,9,11,7,12,6,11,12,14,6,11,13,10,16,9,6,10,9,8,8,9,12,5,4,12,13,5,4,8,13,10,10,10,11,13,10,14,9,14,14,9,7,13,10,16,13,7,14,8,7,11,12,13,12,7,16,12,7,8,11,10,5,8,10,4,9,14,7,6,12,11,6,12,14,14,9,6,13,9,10,13,6,13,11,11,4,13,11,13,12,15,5,9,15,7,9,14,9,4,9,7,13,10,6,10,8,6,5,13,12,8,5,9,5,3,15,13,9,15,12,10,7,6,6,11,10,13,9,9,12,12,8,10,8,7,9,6,9,5,11,7,10,9,14,5,16,13,3,5,10,6,13,15,7,3,7,13,11,9,15,10,11,10,5,13,13,7,15,3,15,9,11,9,11,10,5,15,6,13,12,5,10,4,9,4,14,10,13,4,9,11,13,7,8,3,7,10,6,5,7,5,10,4,7,9,12,16,9,9,8,7,12,8,2,4,10,9,13,4,7,12,9,10,7,14,15,14,12,10,8,5,8,5,7,5,5,5,11,2,4,8,7,7,5,8,8,6,11,11,5,9,6,3,6,4,6,4,9,11,8,8,8,9,4,12,13,10,10,4,7,7,7,9,10,11,9,6,7,11,8,10,13,3,7,11,9,8,9,12,3,13,7,10,12,8,9,9,4,13,7,9,13,9,14,5,8,5,3,7,10,11,13,6,10,12,14,6,5,9,12,10,10,7,11,9,5,9,7,16,12,15,13,2,3,9,10,7,12,3,8,10,10,7,7,9,9,10,5,7,8,4,11,8,13,9,14,12,11,6,5,5,10,11,13,15,12,9,11,5,15,12,7,14,14,3,7,10,12,10,15,8,9,5,5,6,6,9,4,4,13,13,8,14,3,13,14,11,8,5,7,10,5,5,14,7,15,8,10,8,12,7,5,9,7,16,4,11,12,13,8,12,13,9,10,6,10,9,10,10,14,11,3,3,8,11,7,11,9,10,10,10,11,8,13,6,12,13,10,11,8,9,15,3,8,14,2,8,8,10,5,9,11,8,10,8,15,5,14,11,13,14,6,5,10,12,13,8,14,13,7,12,6,6,3,11,7,5,7,12,14,8,10,7,7,8,8,8,8,10,4,7,7,10,2,14,14,10,8,12,8,7,9,12,6,13,14,10,8,11,5,9,10,9,10,6,5,4,6,15,14,5,2,10,5,14,12,9,14,6,13,11,13,11,11,3,10,5,8,12,11,8,16,10,5,2,2,14,9,8,6,10,13,4,9,3,3,4,14,13,11,8,12,8,9,11,14,10,9,9,15,10,13,5,7,15,8,14,12,4,10,12,9,9,5,11,3],\"type\":\"histogram\"}],                        {\"template\":{\"data\":{\"histogram2dcontour\":[{\"type\":\"histogram2dcontour\",\"colorbar\":{\"outlinewidth\":0,\"ticks\":\"\"},\"colorscale\":[[0.0,\"#0d0887\"],[0.1111111111111111,\"#46039f\"],[0.2222222222222222,\"#7201a8\"],[0.3333333333333333,\"#9c179e\"],[0.4444444444444444,\"#bd3786\"],[0.5555555555555556,\"#d8576b\"],[0.6666666666666666,\"#ed7953\"],[0.7777777777777778,\"#fb9f3a\"],[0.8888888888888888,\"#fdca26\"],[1.0,\"#f0f921\"]]}],\"choropleth\":[{\"type\":\"choropleth\",\"colorbar\":{\"outlinewidth\":0,\"ticks\":\"\"}}],\"histogram2d\":[{\"type\":\"histogram2d\",\"colorbar\":{\"outlinewidth\":0,\"ticks\":\"\"},\"colorscale\":[[0.0,\"#0d0887\"],[0.1111111111111111,\"#46039f\"],[0.2222222222222222,\"#7201a8\"],[0.3333333333333333,\"#9c179e\"],[0.4444444444444444,\"#bd3786\"],[0.5555555555555556,\"#d8576b\"],[0.6666666666666666,\"#ed7953\"],[0.7777777777777778,\"#fb9f3a\"],[0.8888888888888888,\"#fdca26\"],[1.0,\"#f0f921\"]]}],\"heatmap\":[{\"type\":\"heatmap\",\"colorbar\":{\"outlinewidth\":0,\"ticks\":\"\"},\"colorscale\":[[0.0,\"#0d0887\"],[0.1111111111111111,\"#46039f\"],[0.2222222222222222,\"#7201a8\"],[0.3333333333333333,\"#9c179e\"],[0.4444444444444444,\"#bd3786\"],[0.5555555555555556,\"#d8576b\"],[0.6666666666666666,\"#ed7953\"],[0.7777777777777778,\"#fb9f3a\"],[0.8888888888888888,\"#fdca26\"],[1.0,\"#f0f921\"]]}],\"heatmapgl\":[{\"type\":\"heatmapgl\",\"colorbar\":{\"outlinewidth\":0,\"ticks\":\"\"},\"colorscale\":[[0.0,\"#0d0887\"],[0.1111111111111111,\"#46039f\"],[0.2222222222222222,\"#7201a8\"],[0.3333333333333333,\"#9c179e\"],[0.4444444444444444,\"#bd3786\"],[0.5555555555555556,\"#d8576b\"],[0.6666666666666666,\"#ed7953\"],[0.7777777777777778,\"#fb9f3a\"],[0.8888888888888888,\"#fdca26\"],[1.0,\"#f0f921\"]]}],\"contourcarpet\":[{\"type\":\"contourcarpet\",\"colorbar\":{\"outlinewidth\":0,\"ticks\":\"\"}}],\"contour\":[{\"type\":\"contour\",\"colorbar\":{\"outlinewidth\":0,\"ticks\":\"\"},\"colorscale\":[[0.0,\"#0d0887\"],[0.1111111111111111,\"#46039f\"],[0.2222222222222222,\"#7201a8\"],[0.3333333333333333,\"#9c179e\"],[0.4444444444444444,\"#bd3786\"],[0.5555555555555556,\"#d8576b\"],[0.6666666666666666,\"#ed7953\"],[0.7777777777777778,\"#fb9f3a\"],[0.8888888888888888,\"#fdca26\"],[1.0,\"#f0f921\"]]}],\"surface\":[{\"type\":\"surface\",\"colorbar\":{\"outlinewidth\":0,\"ticks\":\"\"},\"colorscale\":[[0.0,\"#0d0887\"],[0.1111111111111111,\"#46039f\"],[0.2222222222222222,\"#7201a8\"],[0.3333333333333333,\"#9c179e\"],[0.4444444444444444,\"#bd3786\"],[0.5555555555555556,\"#d8576b\"],[0.6666666666666666,\"#ed7953\"],[0.7777777777777778,\"#fb9f3a\"],[0.8888888888888888,\"#fdca26\"],[1.0,\"#f0f921\"]]}],\"mesh3d\":[{\"type\":\"mesh3d\",\"colorbar\":{\"outlinewidth\":0,\"ticks\":\"\"}}],\"scatter\":[{\"fillpattern\":{\"fillmode\":\"overlay\",\"size\":10,\"solidity\":0.2},\"type\":\"scatter\"}],\"parcoords\":[{\"type\":\"parcoords\",\"line\":{\"colorbar\":{\"outlinewidth\":0,\"ticks\":\"\"}}}],\"scatterpolargl\":[{\"type\":\"scatterpolargl\",\"marker\":{\"colorbar\":{\"outlinewidth\":0,\"ticks\":\"\"}}}],\"bar\":[{\"error_x\":{\"color\":\"#2a3f5f\"},\"error_y\":{\"color\":\"#2a3f5f\"},\"marker\":{\"line\":{\"color\":\"#E5ECF6\",\"width\":0.5},\"pattern\":{\"fillmode\":\"overlay\",\"size\":10,\"solidity\":0.2}},\"type\":\"bar\"}],\"scattergeo\":[{\"type\":\"scattergeo\",\"marker\":{\"colorbar\":{\"outlinewidth\":0,\"ticks\":\"\"}}}],\"scatterpolar\":[{\"type\":\"scatterpolar\",\"marker\":{\"colorbar\":{\"outlinewidth\":0,\"ticks\":\"\"}}}],\"histogram\":[{\"marker\":{\"pattern\":{\"fillmode\":\"overlay\",\"size\":10,\"solidity\":0.2}},\"type\":\"histogram\"}],\"scattergl\":[{\"type\":\"scattergl\",\"marker\":{\"colorbar\":{\"outlinewidth\":0,\"ticks\":\"\"}}}],\"scatter3d\":[{\"type\":\"scatter3d\",\"line\":{\"colorbar\":{\"outlinewidth\":0,\"ticks\":\"\"}},\"marker\":{\"colorbar\":{\"outlinewidth\":0,\"ticks\":\"\"}}}],\"scattermapbox\":[{\"type\":\"scattermapbox\",\"marker\":{\"colorbar\":{\"outlinewidth\":0,\"ticks\":\"\"}}}],\"scatterternary\":[{\"type\":\"scatterternary\",\"marker\":{\"colorbar\":{\"outlinewidth\":0,\"ticks\":\"\"}}}],\"scattercarpet\":[{\"type\":\"scattercarpet\",\"marker\":{\"colorbar\":{\"outlinewidth\":0,\"ticks\":\"\"}}}],\"carpet\":[{\"aaxis\":{\"endlinecolor\":\"#2a3f5f\",\"gridcolor\":\"white\",\"linecolor\":\"white\",\"minorgridcolor\":\"white\",\"startlinecolor\":\"#2a3f5f\"},\"baxis\":{\"endlinecolor\":\"#2a3f5f\",\"gridcolor\":\"white\",\"linecolor\":\"white\",\"minorgridcolor\":\"white\",\"startlinecolor\":\"#2a3f5f\"},\"type\":\"carpet\"}],\"table\":[{\"cells\":{\"fill\":{\"color\":\"#EBF0F8\"},\"line\":{\"color\":\"white\"}},\"header\":{\"fill\":{\"color\":\"#C8D4E3\"},\"line\":{\"color\":\"white\"}},\"type\":\"table\"}],\"barpolar\":[{\"marker\":{\"line\":{\"color\":\"#E5ECF6\",\"width\":0.5},\"pattern\":{\"fillmode\":\"overlay\",\"size\":10,\"solidity\":0.2}},\"type\":\"barpolar\"}],\"pie\":[{\"automargin\":true,\"type\":\"pie\"}]},\"layout\":{\"autotypenumbers\":\"strict\",\"colorway\":[\"#636efa\",\"#EF553B\",\"#00cc96\",\"#ab63fa\",\"#FFA15A\",\"#19d3f3\",\"#FF6692\",\"#B6E880\",\"#FF97FF\",\"#FECB52\"],\"font\":{\"color\":\"#2a3f5f\"},\"hovermode\":\"closest\",\"hoverlabel\":{\"align\":\"left\"},\"paper_bgcolor\":\"white\",\"plot_bgcolor\":\"#E5ECF6\",\"polar\":{\"bgcolor\":\"#E5ECF6\",\"angularaxis\":{\"gridcolor\":\"white\",\"linecolor\":\"white\",\"ticks\":\"\"},\"radialaxis\":{\"gridcolor\":\"white\",\"linecolor\":\"white\",\"ticks\":\"\"}},\"ternary\":{\"bgcolor\":\"#E5ECF6\",\"aaxis\":{\"gridcolor\":\"white\",\"linecolor\":\"white\",\"ticks\":\"\"},\"baxis\":{\"gridcolor\":\"white\",\"linecolor\":\"white\",\"ticks\":\"\"},\"caxis\":{\"gridcolor\":\"white\",\"linecolor\":\"white\",\"ticks\":\"\"}},\"coloraxis\":{\"colorbar\":{\"outlinewidth\":0,\"ticks\":\"\"}},\"colorscale\":{\"sequential\":[[0.0,\"#0d0887\"],[0.1111111111111111,\"#46039f\"],[0.2222222222222222,\"#7201a8\"],[0.3333333333333333,\"#9c179e\"],[0.4444444444444444,\"#bd3786\"],[0.5555555555555556,\"#d8576b\"],[0.6666666666666666,\"#ed7953\"],[0.7777777777777778,\"#fb9f3a\"],[0.8888888888888888,\"#fdca26\"],[1.0,\"#f0f921\"]],\"sequentialminus\":[[0.0,\"#0d0887\"],[0.1111111111111111,\"#46039f\"],[0.2222222222222222,\"#7201a8\"],[0.3333333333333333,\"#9c179e\"],[0.4444444444444444,\"#bd3786\"],[0.5555555555555556,\"#d8576b\"],[0.6666666666666666,\"#ed7953\"],[0.7777777777777778,\"#fb9f3a\"],[0.8888888888888888,\"#fdca26\"],[1.0,\"#f0f921\"]],\"diverging\":[[0,\"#8e0152\"],[0.1,\"#c51b7d\"],[0.2,\"#de77ae\"],[0.3,\"#f1b6da\"],[0.4,\"#fde0ef\"],[0.5,\"#f7f7f7\"],[0.6,\"#e6f5d0\"],[0.7,\"#b8e186\"],[0.8,\"#7fbc41\"],[0.9,\"#4d9221\"],[1,\"#276419\"]]},\"xaxis\":{\"gridcolor\":\"white\",\"linecolor\":\"white\",\"ticks\":\"\",\"title\":{\"standoff\":15},\"zerolinecolor\":\"white\",\"automargin\":true,\"zerolinewidth\":2},\"yaxis\":{\"gridcolor\":\"white\",\"linecolor\":\"white\",\"ticks\":\"\",\"title\":{\"standoff\":15},\"zerolinecolor\":\"white\",\"automargin\":true,\"zerolinewidth\":2},\"scene\":{\"xaxis\":{\"backgroundcolor\":\"#E5ECF6\",\"gridcolor\":\"white\",\"linecolor\":\"white\",\"showbackground\":true,\"ticks\":\"\",\"zerolinecolor\":\"white\",\"gridwidth\":2},\"yaxis\":{\"backgroundcolor\":\"#E5ECF6\",\"gridcolor\":\"white\",\"linecolor\":\"white\",\"showbackground\":true,\"ticks\":\"\",\"zerolinecolor\":\"white\",\"gridwidth\":2},\"zaxis\":{\"backgroundcolor\":\"#E5ECF6\",\"gridcolor\":\"white\",\"linecolor\":\"white\",\"showbackground\":true,\"ticks\":\"\",\"zerolinecolor\":\"white\",\"gridwidth\":2}},\"shapedefaults\":{\"line\":{\"color\":\"#2a3f5f\"}},\"annotationdefaults\":{\"arrowcolor\":\"#2a3f5f\",\"arrowhead\":0,\"arrowwidth\":1},\"geo\":{\"bgcolor\":\"white\",\"landcolor\":\"#E5ECF6\",\"subunitcolor\":\"white\",\"showland\":true,\"showlakes\":true,\"lakecolor\":\"white\"},\"title\":{\"x\":0.05},\"mapbox\":{\"style\":\"light\"}}},\"xaxis\":{\"title\":{\"text\":\"Sum of Two D8 Rolls\"},\"tickmode\":\"linear\"},\"title\":{\"text\":\"Distribution of Sum of Two D8 Rolls (1000 Rolls)\"},\"yaxis\":{\"title\":{\"text\":\"Frequency\"}},\"bargap\":0.2},                        {\"responsive\": true}                    ).then(function(){\n",
              "                            \n",
              "var gd = document.getElementById('e3ba2bcc-24e2-48dc-bc80-9e0e28f00beb');\n",
              "var x = new MutationObserver(function (mutations, observer) {{\n",
              "        var display = window.getComputedStyle(gd).display;\n",
              "        if (!display || display === 'none') {{\n",
              "            console.log([gd, 'removed!']);\n",
              "            Plotly.purge(gd);\n",
              "            observer.disconnect();\n",
              "        }}\n",
              "}});\n",
              "\n",
              "// Listen for the removal of the full notebook cells\n",
              "var notebookContainer = gd.closest('#notebook-container');\n",
              "if (notebookContainer) {{\n",
              "    x.observe(notebookContainer, {childList: true});\n",
              "}}\n",
              "\n",
              "// Listen for the clearing of the current output cell\n",
              "var outputEl = gd.closest('.output');\n",
              "if (outputEl) {{\n",
              "    x.observe(outputEl, {childList: true});\n",
              "}}\n",
              "\n",
              "                        })                };                            </script>        </div>\n",
              "</body>\n",
              "</html>"
            ]
          },
          "metadata": {}
        }
      ],
      "source": [
        "\n",
        "import random\n",
        "import plotly.graph_objects as go\n",
        "\n",
        "# Function to roll two eight-sided dice\n",
        "def roll_dice():\n",
        "    return random.randint(1, 8), random.randint(1, 8)\n",
        "\n",
        "# Simulate rolling two eight-sided dice 1000 times\n",
        "num_rolls = 1000\n",
        "results = [sum(roll_dice()) for _ in range(num_rolls)]\n",
        "\n",
        "# Prepare data for Plotly\n",
        "hist_data = go.Histogram(x=results, nbinsx=17, marker=dict(color='blue', line=dict(width=1, color='black')))\n",
        "\n",
        "# Create the Plotly figure\n",
        "fig = go.Figure(data=[hist_data])\n",
        "\n",
        "# Update layout\n",
        "fig.update_layout(\n",
        "    title='Distribution of Sum of Two D8 Rolls (1000 Rolls)',\n",
        "    xaxis_title='Sum of Two D8 Rolls',\n",
        "    yaxis_title='Frequency',\n",
        "    xaxis=dict(tickmode='linear'),\n",
        "    bargap=0.2\n",
        ")\n",
        "\n",
        "# Show the plot\n",
        "fig.show()"
      ]
    }
  ]
}